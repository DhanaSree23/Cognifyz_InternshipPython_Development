{
 "cells": [
  {
   "cell_type": "markdown",
   "id": "8b62f6dd-3863-4a63-b1b5-b077ea811aab",
   "metadata": {},
   "source": [
    "# Level-1\n",
    "\n",
    "*Task-1 String Reversal*\n",
    "\n",
    "Create a Python function that takes a \n",
    "string as input and returns the reverse of\r\n",
    "that string. For example, if the input  'hello,' the function should return 'olleh'\"olleh."
   ]
  },
  {
   "cell_type": "code",
   "execution_count": 1,
   "id": "cf30bd3d-5071-4a3f-9ee2-f8f66fa25925",
   "metadata": {},
   "outputs": [
    {
     "name": "stdout",
     "output_type": "stream",
     "text": [
      "olleh\n"
     ]
    }
   ],
   "source": [
    "def reverse_string(input_string):\n",
    "    return input_string[::-1]\n",
    "\n",
    "# Example usage:\n",
    "input_str = \"hello\"\n",
    "reversed_str = reverse_string(input_str)\n",
    "print(reversed_str)  # Output: \"olleh\"\n"
   ]
  },
  {
   "cell_type": "markdown",
   "id": "fa26c2d4-abfd-4e1a-b04a-37f674dd1592",
   "metadata": {},
   "source": [
    "*Task-2 Temperature Conversion *\n",
    "\n",
    "Create a Python program that converts\r\n",
    "temperatures between Celsius and\r\n",
    "Fahrenheit. Prompt the user to enter a\r\n",
    "temperature value and the unit of\r\n",
    "measurement, and then display the\r\n",
    "converted temperature."
   ]
  },
  {
   "cell_type": "code",
   "execution_count": 5,
   "id": "13192baf-27a2-4d0a-931a-10e25b070de5",
   "metadata": {},
   "outputs": [
    {
     "name": "stdin",
     "output_type": "stream",
     "text": [
      "Enter the temperature value:  100\n",
      "Enter the unit of measurement (C for Celsius, F for Fahrenheit):  C\n"
     ]
    },
    {
     "name": "stdout",
     "output_type": "stream",
     "text": [
      "100.0°C is equal to 212.00°F\n"
     ]
    }
   ],
   "source": [
    "def celsius_to_fahrenheit(celsius):\n",
    "    return (celsius * 9/5) + 32\n",
    "\n",
    "def fahrenheit_to_celsius(fahrenheit):\n",
    "    return (fahrenheit - 32) * 5/9\n",
    "\n",
    "def main():\n",
    "    # Prompt user for temperature value and unit\n",
    "    temp = float(input(\"Enter the temperature value: \"))\n",
    "    unit = input(\"Enter the unit of measurement (C for Celsius, F for Fahrenheit): \").strip().upper()\n",
    "\n",
    "    # Perform the conversion\n",
    "    if unit == 'C':\n",
    "        converted_temp = celsius_to_fahrenheit(temp)\n",
    "        print(f\"{temp}°C is equal to {converted_temp:.2f}°F\")\n",
    "    elif unit == 'F':\n",
    "        converted_temp = fahrenheit_to_celsius(temp)\n",
    "        print(f\"{temp}°F is equal to {converted_temp:.2f}°C\")\n",
    "    else:\n",
    "        print(\"Invalid unit of measurement. Please enter 'C' for Celsius or 'F' for Fahrenheit.\")\n",
    "\n",
    "if __name__ == \"__main__\":\n",
    "    main()\n"
   ]
  },
  {
   "cell_type": "markdown",
   "id": "0a617263-88a6-4207-a9d9-6dd04b205344",
   "metadata": {},
   "source": [
    "*Task-3  Email Validator*\n",
    "\n",
    "Develop a Python function that validates\r\n",
    "whether a given string is a valid email\r\n",
    "address. Implement checks for the format,\r\n",
    "including the presence of an \"@\" symbol and\r\n",
    "a domain name"
   ]
  },
  {
   "cell_type": "code",
   "execution_count": 7,
   "id": "040c6295-e0f2-4165-9e91-cfd9c1136926",
   "metadata": {},
   "outputs": [
    {
     "name": "stdin",
     "output_type": "stream",
     "text": [
      "Enter an email address:  Test@gmail.com\n"
     ]
    },
    {
     "name": "stdout",
     "output_type": "stream",
     "text": [
      "The email address 'Test@gmail.com' is valid.\n"
     ]
    }
   ],
   "source": [
    "import re\n",
    "\n",
    "def is_valid_email(email):\n",
    "    # Regular expression to check for a basic valid email format\n",
    "    email_regex = r'^[a-zA-Z0-9._%+-]+@[a-zA-Z0-9.-]+\\.[a-zA-Z]{2,}$'\n",
    "    \n",
    "    # Use re.match to check if the email matches the regex pattern\n",
    "    if re.match(email_regex, email):\n",
    "        return True\n",
    "    else:\n",
    "        return False\n",
    "\n",
    "# Example usage\n",
    "email = input(\"Enter an email address: \")\n",
    "if is_valid_email(email):\n",
    "    print(f\"The email address '{email}' is valid.\")\n",
    "else:\n",
    "    print(f\"The email address '{email}' is not valid.\")\n"
   ]
  },
  {
   "cell_type": "markdown",
   "id": "5474c4c3-306e-4621-aa54-c24b20c65df3",
   "metadata": {},
   "source": [
    "*Task-4 Calculator Program*\n",
    "\n",
    "Create a Python program that acts as a basic\r\n",
    "calculator. It should prompt the user to\r\n",
    "enter two numbers and an operator (+\r\n",
    ", -,\r\n",
    "*\r\n",
    ", /,\r\n",
    "%), and then display the result of the\r\n",
    "operation."
   ]
  },
  {
   "cell_type": "code",
   "execution_count": 9,
   "id": "81156339-3b65-473b-b284-03e06548ca97",
   "metadata": {},
   "outputs": [
    {
     "name": "stdin",
     "output_type": "stream",
     "text": [
      "Enter the first number:  23\n",
      "Enter an operator (+, -, *, /, %):  *\n",
      "Enter the second number:  17\n"
     ]
    },
    {
     "name": "stdout",
     "output_type": "stream",
     "text": [
      "The result of 23.0 * 17.0 is: 391.0\n"
     ]
    }
   ],
   "source": [
    "def basic_calculator():\n",
    "    # Prompt the user to enter the first number\n",
    "    num1 = float(input(\"Enter the first number: \"))\n",
    "    \n",
    "    # Prompt the user to enter the operator\n",
    "    operator = input(\"Enter an operator (+, -, *, /, %): \")\n",
    "    \n",
    "    # Prompt the user to enter the second number\n",
    "    num2 = float(input(\"Enter the second number: \"))\n",
    "    \n",
    "    # Perform the calculation based on the operator\n",
    "    if operator == '+':\n",
    "        result = num1 + num2\n",
    "    elif operator == '-':\n",
    "        result = num1 - num2\n",
    "    elif operator == '*':\n",
    "        result = num1 * num2\n",
    "    elif operator == '/':\n",
    "        if num2 == 0:\n",
    "            return \"Error! Division by zero.\"\n",
    "        result = num1 / num2\n",
    "    elif operator == '%':\n",
    "        result = num1 % num2\n",
    "    else:\n",
    "        return \"Invalid operator!\"\n",
    "\n",
    "    return f\"The result of {num1} {operator} {num2} is: {result}\"\n",
    "\n",
    "# Run the calculator\n",
    "print(basic_calculator())\n"
   ]
  },
  {
   "cell_type": "markdown",
   "id": "5a281c32-ff6a-46fc-b32e-bedff25b8dd3",
   "metadata": {},
   "source": [
    "*Task-5  Palindrome Checker*\n",
    "\n",
    "Write a Python function that checks whether\r\n",
    "a given string is a palindrome. A palindrome\r\n",
    "is a word, phrase, or sequence that reads t e\r\n",
    "sa\n",
    "me backward forward (eg:'madam' or 'racecar')ecar\")."
   ]
  },
  {
   "cell_type": "code",
   "execution_count": 11,
   "id": "cd7500c7-ce8a-437c-9bcd-f101f1af4094",
   "metadata": {},
   "outputs": [
    {
     "name": "stdin",
     "output_type": "stream",
     "text": [
      "Enter a string:  atta\n"
     ]
    },
    {
     "name": "stdout",
     "output_type": "stream",
     "text": [
      "'atta' is a palindrome.\n"
     ]
    }
   ],
   "source": [
    "def is_palindrome(input_string):\n",
    "    # Remove spaces and convert to lowercase\n",
    "    cleaned_string = ''.join(input_string.split()).lower()\n",
    "    \n",
    "    # Check if the string is equal to its reverse\n",
    "    return cleaned_string == cleaned_string[::-1]\n",
    "\n",
    "# Example usage\n",
    "input_str = input(\"Enter a string: \")\n",
    "if is_palindrome(input_str):\n",
    "    print(f\"'{input_str}' is a palindrome.\")\n",
    "else:\n",
    "    print(f\"'{input_str}' is not a palindrome.\")\n"
   ]
  },
  {
   "cell_type": "markdown",
   "id": "0b445170-52c1-40ca-b574-d0c4dfa3e2dc",
   "metadata": {},
   "source": [
    "# Level-2\n",
    "\n",
    "*Task-1 Guessing Game*\n",
    "\n",
    "Write a Python program that generates a\r\n",
    "random number between 1 and 100. The\r\n",
    "user should then try to guess the number.\r\n",
    "The program should provide hints such as\r\n",
    "\"too high\" or \"too low\" until the correct\r\n",
    "number is guessed."
   ]
  },
  {
   "cell_type": "code",
   "execution_count": 13,
   "id": "3160a4f7-65bc-4ac8-b745-c04de317288e",
   "metadata": {},
   "outputs": [
    {
     "name": "stdout",
     "output_type": "stream",
     "text": [
      "19\n",
      "Welcome to 'Guess the Number'!\n",
      "I'm thinking of a number between 1 and 100. Try to guess it!\n"
     ]
    },
    {
     "name": "stdin",
     "output_type": "stream",
     "text": [
      "Enter your guess:  20\n"
     ]
    },
    {
     "name": "stdout",
     "output_type": "stream",
     "text": [
      "Too high! Try again.\n"
     ]
    },
    {
     "name": "stdin",
     "output_type": "stream",
     "text": [
      "Enter your guess:  19\n"
     ]
    },
    {
     "name": "stdout",
     "output_type": "stream",
     "text": [
      "Congratulations! 19 is the correct number.\n"
     ]
    }
   ],
   "source": [
    "import random\n",
    "\n",
    "def guess_the_number():\n",
    "    # Generate a random number between 1 and 100\n",
    "    secret_number = random.randint(1, 100)\n",
    "    print(secret_number)\n",
    "    \n",
    "    print(\"Welcome to 'Guess the Number'!\")\n",
    "    print(\"I'm thinking of a number between 1 and 100. Try to guess it!\")\n",
    "\n",
    "    # Loop until the user guesses correctly\n",
    "    while True:\n",
    "        try:\n",
    "            # Prompt the user for a guess\n",
    "            user_guess = int(input(\"Enter your guess: \"))\n",
    "            \n",
    "            # Check if the guess is too low, too high, or correct\n",
    "            if user_guess < secret_number:\n",
    "                print(\"Too low! Try again.\")\n",
    "            elif user_guess > secret_number:\n",
    "                print(\"Too high! Try again.\")\n",
    "            else:\n",
    "                print(f\"Congratulations! {user_guess} is the correct number.\")\n",
    "                break  # Exit the loop when the user guesses correctly\n",
    "        except ValueError:\n",
    "            print(\"Please enter a valid number.\")\n",
    "\n",
    "# Run the game\n",
    "guess_the_number()\n"
   ]
  },
  {
   "cell_type": "markdown",
   "id": "a9786e84-dd80-48a8-99dc-aa6da509371c",
   "metadata": {},
   "source": [
    "*Task-2  Number Guesser*\n",
    "\n",
    "Create a number guessing game where the\r\n",
    "program generates a random number\r\n",
    "between a specified range, and the user tries\r\n",
    "to guess it. Provide feedback to the user if\r\n",
    "their guess is too high or too low."
   ]
  },
  {
   "cell_type": "code",
   "execution_count": 15,
   "id": "5549fc2e-8801-4d10-8915-0443db6fb761",
   "metadata": {},
   "outputs": [
    {
     "name": "stdout",
     "output_type": "stream",
     "text": [
      "Welcome to the Number Guessing Game!\n"
     ]
    },
    {
     "name": "stdin",
     "output_type": "stream",
     "text": [
      "Enter the lower bound of the range:  100\n",
      "Enter the upper bound of the range:  10\n"
     ]
    },
    {
     "name": "stdout",
     "output_type": "stream",
     "text": [
      "Invalid range. The upper bound should be greater than the lower bound.\n"
     ]
    }
   ],
   "source": [
    "import random\n",
    "\n",
    "def guess_the_number():\n",
    "    print(\"Welcome to the Number Guessing Game!\")\n",
    "    \n",
    "    # Prompt the user for the range\n",
    "    lower_bound = int(input(\"Enter the lower bound of the range: \"))\n",
    "    upper_bound = int(input(\"Enter the upper bound of the range: \"))\n",
    "    \n",
    "    # Ensure the upper bound is greater than the lower bound\n",
    "    if lower_bound >= upper_bound:\n",
    "        print(\"Invalid range. The upper bound should be greater than the lower bound.\")\n",
    "        return\n",
    "    \n",
    "    # Generate a random number within the specified range\n",
    "    secret_number = random.randint(lower_bound, upper_bound)\n",
    "    \n",
    "    print(f\"Guess the number between {lower_bound} and {upper_bound}:\")\n",
    "    \n",
    "    # Loop until the user guesses correctly\n",
    "    while True:\n",
    "        try:\n",
    "            # Prompt the user for their guess\n",
    "            user_guess = int(input(\"Enter your guess: \"))\n",
    "            \n",
    "            # Check if the guess is too low, too high, or correct\n",
    "            if user_guess < secret_number:\n",
    "                print(\"Too low! Try again.\")\n",
    "            elif user_guess > secret_number:\n",
    "                print(\"Too high! Try again.\")\n",
    "            else:\n",
    "                print(f\"Congratulations! {user_guess} is the correct number.\")\n",
    "                break  # Exit the loop when the user guesses correctly\n",
    "        except ValueError:\n",
    "            print(\"Please enter a valid number.\")10\n",
    "            \n",
    "\n",
    "# Run the game\n",
    "guess_the_number()\n"
   ]
  },
  {
   "cell_type": "markdown",
   "id": "8e9141a5-6d8b-4b27-87fe-71e7e9bde826",
   "metadata": {},
   "source": [
    "*Task-3 Password Strength Checker*\n",
    "\n",
    "Create a Python function that evaluates\r\n",
    "the strength of a password entered by the\r\n",
    "user. Implement checks for factors such as\r\n",
    "length, presence of uppercase and\r\n",
    "lowercase letters, digits, and special\r\n",
    "characters."
   ]
  },
  {
   "cell_type": "code",
   "execution_count": 17,
   "id": "062257dc-7f51-46bd-82ec-c8f3820b327b",
   "metadata": {},
   "outputs": [
    {
     "name": "stdin",
     "output_type": "stream",
     "text": [
      "Enter a password:  Password@123\n"
     ]
    },
    {
     "name": "stdout",
     "output_type": "stream",
     "text": [
      "Password is strong.\n"
     ]
    }
   ],
   "source": [
    "import re\n",
    "\n",
    "def evaluate_password_strength(password):\n",
    "    # Length check\n",
    "    if len(password) < 8:\n",
    "        return \"Password is too short. It should be at least 8 characters.\"\n",
    "\n",
    "    # Check for uppercase letters\n",
    "    if not re.search(r'[A-Z]', password):\n",
    "        return \"Password should contain at least one uppercase letter.\"\n",
    "\n",
    "    # Check for lowercase letters\n",
    "    if not re.search(r'[a-z]', password):\n",
    "        return \"Password should contain at least one lowercase letter.\"\n",
    "\n",
    "    # Check for digits\n",
    "    if not re.search(r'[0-9]', password):\n",
    "        return \"Password should contain at least one digit.\"\n",
    "\n",
    "    # Check for special characters\n",
    "    if not re.search(r'[@#$%^&+=!]', password):\n",
    "        return \"Password should contain at least one special character (@, #, $, %, ^, &, +, =, !).\"\n",
    "\n",
    "    return \"Password is strong.\"\n",
    "\n",
    "# Example usage\n",
    "password = input(\"Enter a password: \")\n",
    "print(evaluate_password_strength(password))\n"
   ]
  },
  {
   "cell_type": "markdown",
   "id": "f6ae94f5-0de5-4945-af64-e6ae9d2cc209",
   "metadata": {},
   "source": [
    "*Task-5 File Manipulation*\n",
    "\n",
    "Write a Python program that reads a text\r\n",
    "file and counts the occurrences of each\r\n",
    "word in the file. Display the results in\r\n",
    "alphabetical order along with their\r\n",
    "respective counts."
   ]
  },
  {
   "cell_type": "code",
   "execution_count": 19,
   "id": "d53c7759-8220-4f9d-9fa2-4afd10fef83d",
   "metadata": {},
   "outputs": [
    {
     "name": "stdin",
     "output_type": "stream",
     "text": [
      "Enter the path to the text file:  data\n"
     ]
    },
    {
     "name": "stdout",
     "output_type": "stream",
     "text": [
      "File not found. Please check the file path.\n"
     ]
    }
   ],
   "source": [
    "import string\n",
    "\n",
    "def count_words_in_file(file_path):\n",
    "    # Open the file and read its content\n",
    "    try:\n",
    "        with open(file_path, 'r') as file:\n",
    "            text = file.read().lower()  # Read the file and convert text to lowercase for uniformity\n",
    "\n",
    "        # Remove punctuation from the text\n",
    "        text = text.translate(str.maketrans('', '', string.punctuation))\n",
    "\n",
    "        # Split the text into words\n",
    "        words = text.split()\n",
    "\n",
    "        # Create a dictionary to store word counts\n",
    "        word_counts = {}\n",
    "\n",
    "        # Count occurrences of each word\n",
    "        for word in words:\n",
    "            if word in word_counts:\n",
    "                word_counts[word] += 1\n",
    "            else:\n",
    "                word_counts[word] = 1\n",
    "\n",
    "        # Sort the dictionary by word\n",
    "        sorted_word_counts = sorted(word_counts.items())\n",
    "\n",
    "        # Display the results\n",
    "        for word, count in sorted_word_counts:\n",
    "            print(f\"{word}: {count}\")\n",
    "\n",
    "    except FileNotFoundError:\n",
    "        print(\"File not found. Please check the file path.\")\n",
    "\n",
    "# Example usage\n",
    "file_path = input(\"Enter the path to the text file: \")\n",
    "count_words_in_file(file_path)\n"
   ]
  },
  {
   "cell_type": "markdown",
   "id": "e41bb745-1883-407f-83f0-2558f6e207ed",
   "metadata": {},
   "source": [
    "# Level-3\n",
    "\n",
    "* Task-1 Build a Web Scraper*\n",
    "\n",
    "Develop a web scraper that extracts\r\n",
    "specific data from websites using libraries\r\n",
    "like BeautifulSoup or Scrapy. This task will\r\n",
    "improve their knowledge of web scraping\r\n",
    "techniques and handling HTML/XML data."
   ]
  },
  {
   "cell_type": "code",
   "execution_count": null,
   "id": "6c9a63fe-fe20-454a-8b99-7f96833bb101",
   "metadata": {},
   "outputs": [],
   "source": []
  }
 ],
 "metadata": {
  "kernelspec": {
   "display_name": "Python 3 (ipykernel)",
   "language": "python",
   "name": "python3"
  },
  "language_info": {
   "codemirror_mode": {
    "name": "ipython",
    "version": 3
   },
   "file_extension": ".py",
   "mimetype": "text/x-python",
   "name": "python",
   "nbconvert_exporter": "python",
   "pygments_lexer": "ipython3",
   "version": "3.12.4"
  }
 },
 "nbformat": 4,
 "nbformat_minor": 5
}
